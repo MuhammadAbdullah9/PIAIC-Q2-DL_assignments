{
  "nbformat": 4,
  "nbformat_minor": 0,
  "metadata": {
    "colab": {
      "name": "Concrete_Strength_Assignment.ipynb",
      "provenance": []
    },
    "kernelspec": {
      "name": "python3",
      "display_name": "Python 3"
    },
    "language_info": {
      "name": "python"
    }
  },
  "cells": [
    {
      "cell_type": "code",
      "metadata": {
        "colab": {
          "base_uri": "https://localhost:8080/"
        },
        "id": "abQLNG0IVRZw",
        "outputId": "fc3b0aca-0fea-4039-80af-0fdabb47a62a"
      },
      "source": [
        "from google.colab import drive\n",
        "drive.mount('/content/drive')"
      ],
      "execution_count": 135,
      "outputs": [
        {
          "output_type": "stream",
          "text": [
            "Drive already mounted at /content/drive; to attempt to forcibly remount, call drive.mount(\"/content/drive\", force_remount=True).\n"
          ],
          "name": "stdout"
        }
      ]
    },
    {
      "cell_type": "code",
      "metadata": {
        "id": "aI2YcaL5WAvH"
      },
      "source": [
        "import numpy as np\n",
        "import pandas as pd\n",
        "\n",
        "concreteData = pd.read_csv('/content/drive/MyDrive/DL-Assignments/compresive_strength_concrete.csv')"
      ],
      "execution_count": 136,
      "outputs": []
    },
    {
      "cell_type": "code",
      "metadata": {
        "colab": {
          "base_uri": "https://localhost:8080/"
        },
        "id": "JuAOxncOWiOW",
        "outputId": "4490b5e2-aa4f-468c-9634-596272ed7c58"
      },
      "source": [
        "concreteData.shape"
      ],
      "execution_count": 137,
      "outputs": [
        {
          "output_type": "execute_result",
          "data": {
            "text/plain": [
              "(1030, 9)"
            ]
          },
          "metadata": {
            "tags": []
          },
          "execution_count": 137
        }
      ]
    },
    {
      "cell_type": "code",
      "metadata": {
        "colab": {
          "base_uri": "https://localhost:8080/",
          "height": 410
        },
        "id": "sfTAV6fWW1Gi",
        "outputId": "4545c4b7-7e83-4f0a-8007-79306a33d8d7"
      },
      "source": [
        "concreteData.head(10)"
      ],
      "execution_count": 138,
      "outputs": [
        {
          "output_type": "execute_result",
          "data": {
            "text/html": [
              "<div>\n",
              "<style scoped>\n",
              "    .dataframe tbody tr th:only-of-type {\n",
              "        vertical-align: middle;\n",
              "    }\n",
              "\n",
              "    .dataframe tbody tr th {\n",
              "        vertical-align: top;\n",
              "    }\n",
              "\n",
              "    .dataframe thead th {\n",
              "        text-align: right;\n",
              "    }\n",
              "</style>\n",
              "<table border=\"1\" class=\"dataframe\">\n",
              "  <thead>\n",
              "    <tr style=\"text-align: right;\">\n",
              "      <th></th>\n",
              "      <th>Cement (component 1)(kg in a m^3 mixture)</th>\n",
              "      <th>Blast Furnace Slag (component 2)(kg in a m^3 mixture)</th>\n",
              "      <th>Fly Ash (component 3)(kg in a m^3 mixture)</th>\n",
              "      <th>Water  (component 4)(kg in a m^3 mixture)</th>\n",
              "      <th>Superplasticizer (component 5)(kg in a m^3 mixture)</th>\n",
              "      <th>Coarse Aggregate  (component 6)(kg in a m^3 mixture)</th>\n",
              "      <th>Fine Aggregate (component 7)(kg in a m^3 mixture)</th>\n",
              "      <th>Age (day)</th>\n",
              "      <th>Concrete compressive strength(MPa, megapascals)</th>\n",
              "    </tr>\n",
              "  </thead>\n",
              "  <tbody>\n",
              "    <tr>\n",
              "      <th>0</th>\n",
              "      <td>540.0</td>\n",
              "      <td>0.0</td>\n",
              "      <td>0.0</td>\n",
              "      <td>162.0</td>\n",
              "      <td>2.5</td>\n",
              "      <td>1040.0</td>\n",
              "      <td>676.0</td>\n",
              "      <td>28</td>\n",
              "      <td>79.99</td>\n",
              "    </tr>\n",
              "    <tr>\n",
              "      <th>1</th>\n",
              "      <td>540.0</td>\n",
              "      <td>0.0</td>\n",
              "      <td>0.0</td>\n",
              "      <td>162.0</td>\n",
              "      <td>2.5</td>\n",
              "      <td>1055.0</td>\n",
              "      <td>676.0</td>\n",
              "      <td>28</td>\n",
              "      <td>61.89</td>\n",
              "    </tr>\n",
              "    <tr>\n",
              "      <th>2</th>\n",
              "      <td>332.5</td>\n",
              "      <td>142.5</td>\n",
              "      <td>0.0</td>\n",
              "      <td>228.0</td>\n",
              "      <td>0.0</td>\n",
              "      <td>932.0</td>\n",
              "      <td>594.0</td>\n",
              "      <td>270</td>\n",
              "      <td>40.27</td>\n",
              "    </tr>\n",
              "    <tr>\n",
              "      <th>3</th>\n",
              "      <td>332.5</td>\n",
              "      <td>142.5</td>\n",
              "      <td>0.0</td>\n",
              "      <td>228.0</td>\n",
              "      <td>0.0</td>\n",
              "      <td>932.0</td>\n",
              "      <td>594.0</td>\n",
              "      <td>365</td>\n",
              "      <td>41.05</td>\n",
              "    </tr>\n",
              "    <tr>\n",
              "      <th>4</th>\n",
              "      <td>198.6</td>\n",
              "      <td>132.4</td>\n",
              "      <td>0.0</td>\n",
              "      <td>192.0</td>\n",
              "      <td>0.0</td>\n",
              "      <td>978.4</td>\n",
              "      <td>825.5</td>\n",
              "      <td>360</td>\n",
              "      <td>44.30</td>\n",
              "    </tr>\n",
              "    <tr>\n",
              "      <th>5</th>\n",
              "      <td>266.0</td>\n",
              "      <td>114.0</td>\n",
              "      <td>0.0</td>\n",
              "      <td>228.0</td>\n",
              "      <td>0.0</td>\n",
              "      <td>932.0</td>\n",
              "      <td>670.0</td>\n",
              "      <td>90</td>\n",
              "      <td>47.03</td>\n",
              "    </tr>\n",
              "    <tr>\n",
              "      <th>6</th>\n",
              "      <td>380.0</td>\n",
              "      <td>95.0</td>\n",
              "      <td>0.0</td>\n",
              "      <td>228.0</td>\n",
              "      <td>0.0</td>\n",
              "      <td>932.0</td>\n",
              "      <td>594.0</td>\n",
              "      <td>365</td>\n",
              "      <td>43.70</td>\n",
              "    </tr>\n",
              "    <tr>\n",
              "      <th>7</th>\n",
              "      <td>380.0</td>\n",
              "      <td>95.0</td>\n",
              "      <td>0.0</td>\n",
              "      <td>228.0</td>\n",
              "      <td>0.0</td>\n",
              "      <td>932.0</td>\n",
              "      <td>594.0</td>\n",
              "      <td>28</td>\n",
              "      <td>36.45</td>\n",
              "    </tr>\n",
              "    <tr>\n",
              "      <th>8</th>\n",
              "      <td>266.0</td>\n",
              "      <td>114.0</td>\n",
              "      <td>0.0</td>\n",
              "      <td>228.0</td>\n",
              "      <td>0.0</td>\n",
              "      <td>932.0</td>\n",
              "      <td>670.0</td>\n",
              "      <td>28</td>\n",
              "      <td>45.85</td>\n",
              "    </tr>\n",
              "    <tr>\n",
              "      <th>9</th>\n",
              "      <td>475.0</td>\n",
              "      <td>0.0</td>\n",
              "      <td>0.0</td>\n",
              "      <td>228.0</td>\n",
              "      <td>0.0</td>\n",
              "      <td>932.0</td>\n",
              "      <td>594.0</td>\n",
              "      <td>28</td>\n",
              "      <td>39.29</td>\n",
              "    </tr>\n",
              "  </tbody>\n",
              "</table>\n",
              "</div>"
            ],
            "text/plain": [
              "   Cement (component 1)(kg in a m^3 mixture)  ...  Concrete compressive strength(MPa, megapascals) \n",
              "0                                      540.0  ...                                             79.99\n",
              "1                                      540.0  ...                                             61.89\n",
              "2                                      332.5  ...                                             40.27\n",
              "3                                      332.5  ...                                             41.05\n",
              "4                                      198.6  ...                                             44.30\n",
              "5                                      266.0  ...                                             47.03\n",
              "6                                      380.0  ...                                             43.70\n",
              "7                                      380.0  ...                                             36.45\n",
              "8                                      266.0  ...                                             45.85\n",
              "9                                      475.0  ...                                             39.29\n",
              "\n",
              "[10 rows x 9 columns]"
            ]
          },
          "metadata": {
            "tags": []
          },
          "execution_count": 138
        }
      ]
    },
    {
      "cell_type": "code",
      "metadata": {
        "colab": {
          "base_uri": "https://localhost:8080/"
        },
        "id": "7Mdw5UZsW7i-",
        "outputId": "6b91f896-2883-426f-aebc-98490814f8c7"
      },
      "source": [
        "concreteData.isnull().sum()"
      ],
      "execution_count": 139,
      "outputs": [
        {
          "output_type": "execute_result",
          "data": {
            "text/plain": [
              "Cement (component 1)(kg in a m^3 mixture)                0\n",
              "Blast Furnace Slag (component 2)(kg in a m^3 mixture)    0\n",
              "Fly Ash (component 3)(kg in a m^3 mixture)               0\n",
              "Water  (component 4)(kg in a m^3 mixture)                0\n",
              "Superplasticizer (component 5)(kg in a m^3 mixture)      0\n",
              "Coarse Aggregate  (component 6)(kg in a m^3 mixture)     0\n",
              "Fine Aggregate (component 7)(kg in a m^3 mixture)        0\n",
              "Age (day)                                                0\n",
              "Concrete compressive strength(MPa, megapascals)          0\n",
              "dtype: int64"
            ]
          },
          "metadata": {
            "tags": []
          },
          "execution_count": 139
        }
      ]
    },
    {
      "cell_type": "code",
      "metadata": {
        "id": "PCE12Uf9XAm-"
      },
      "source": [
        "X_train = concreteData.sample(frac=0.7 , random_state=123)\n",
        "X_test = concreteData.drop(X_train.index)"
      ],
      "execution_count": 140,
      "outputs": []
    },
    {
      "cell_type": "code",
      "metadata": {
        "colab": {
          "base_uri": "https://localhost:8080/",
          "height": 470
        },
        "id": "nj4vO_DfXsSL",
        "outputId": "5888475a-6bf1-48eb-b514-a782f967ad45"
      },
      "source": [
        "X_train"
      ],
      "execution_count": 141,
      "outputs": [
        {
          "output_type": "execute_result",
          "data": {
            "text/html": [
              "<div>\n",
              "<style scoped>\n",
              "    .dataframe tbody tr th:only-of-type {\n",
              "        vertical-align: middle;\n",
              "    }\n",
              "\n",
              "    .dataframe tbody tr th {\n",
              "        vertical-align: top;\n",
              "    }\n",
              "\n",
              "    .dataframe thead th {\n",
              "        text-align: right;\n",
              "    }\n",
              "</style>\n",
              "<table border=\"1\" class=\"dataframe\">\n",
              "  <thead>\n",
              "    <tr style=\"text-align: right;\">\n",
              "      <th></th>\n",
              "      <th>Cement (component 1)(kg in a m^3 mixture)</th>\n",
              "      <th>Blast Furnace Slag (component 2)(kg in a m^3 mixture)</th>\n",
              "      <th>Fly Ash (component 3)(kg in a m^3 mixture)</th>\n",
              "      <th>Water  (component 4)(kg in a m^3 mixture)</th>\n",
              "      <th>Superplasticizer (component 5)(kg in a m^3 mixture)</th>\n",
              "      <th>Coarse Aggregate  (component 6)(kg in a m^3 mixture)</th>\n",
              "      <th>Fine Aggregate (component 7)(kg in a m^3 mixture)</th>\n",
              "      <th>Age (day)</th>\n",
              "      <th>Concrete compressive strength(MPa, megapascals)</th>\n",
              "    </tr>\n",
              "  </thead>\n",
              "  <tbody>\n",
              "    <tr>\n",
              "      <th>134</th>\n",
              "      <td>362.6</td>\n",
              "      <td>189.0</td>\n",
              "      <td>0.0</td>\n",
              "      <td>164.9</td>\n",
              "      <td>11.6</td>\n",
              "      <td>944.7</td>\n",
              "      <td>755.8</td>\n",
              "      <td>28</td>\n",
              "      <td>71.30</td>\n",
              "    </tr>\n",
              "    <tr>\n",
              "      <th>13</th>\n",
              "      <td>190.0</td>\n",
              "      <td>190.0</td>\n",
              "      <td>0.0</td>\n",
              "      <td>228.0</td>\n",
              "      <td>0.0</td>\n",
              "      <td>932.0</td>\n",
              "      <td>670.0</td>\n",
              "      <td>90</td>\n",
              "      <td>42.33</td>\n",
              "    </tr>\n",
              "    <tr>\n",
              "      <th>996</th>\n",
              "      <td>152.6</td>\n",
              "      <td>238.7</td>\n",
              "      <td>0.0</td>\n",
              "      <td>200.0</td>\n",
              "      <td>6.3</td>\n",
              "      <td>1001.8</td>\n",
              "      <td>683.9</td>\n",
              "      <td>28</td>\n",
              "      <td>26.86</td>\n",
              "    </tr>\n",
              "    <tr>\n",
              "      <th>770</th>\n",
              "      <td>349.0</td>\n",
              "      <td>0.0</td>\n",
              "      <td>0.0</td>\n",
              "      <td>192.0</td>\n",
              "      <td>0.0</td>\n",
              "      <td>1047.0</td>\n",
              "      <td>806.0</td>\n",
              "      <td>3</td>\n",
              "      <td>14.99</td>\n",
              "    </tr>\n",
              "    <tr>\n",
              "      <th>937</th>\n",
              "      <td>313.3</td>\n",
              "      <td>0.0</td>\n",
              "      <td>113.0</td>\n",
              "      <td>178.5</td>\n",
              "      <td>8.0</td>\n",
              "      <td>1001.9</td>\n",
              "      <td>688.7</td>\n",
              "      <td>28</td>\n",
              "      <td>36.80</td>\n",
              "    </tr>\n",
              "    <tr>\n",
              "      <th>...</th>\n",
              "      <td>...</td>\n",
              "      <td>...</td>\n",
              "      <td>...</td>\n",
              "      <td>...</td>\n",
              "      <td>...</td>\n",
              "      <td>...</td>\n",
              "      <td>...</td>\n",
              "      <td>...</td>\n",
              "      <td>...</td>\n",
              "    </tr>\n",
              "    <tr>\n",
              "      <th>931</th>\n",
              "      <td>144.0</td>\n",
              "      <td>15.0</td>\n",
              "      <td>195.0</td>\n",
              "      <td>176.0</td>\n",
              "      <td>6.0</td>\n",
              "      <td>1021.0</td>\n",
              "      <td>709.0</td>\n",
              "      <td>28</td>\n",
              "      <td>15.34</td>\n",
              "    </tr>\n",
              "    <tr>\n",
              "      <th>466</th>\n",
              "      <td>190.3</td>\n",
              "      <td>0.0</td>\n",
              "      <td>125.2</td>\n",
              "      <td>166.6</td>\n",
              "      <td>9.9</td>\n",
              "      <td>1079.0</td>\n",
              "      <td>798.9</td>\n",
              "      <td>100</td>\n",
              "      <td>33.56</td>\n",
              "    </tr>\n",
              "    <tr>\n",
              "      <th>983</th>\n",
              "      <td>136.4</td>\n",
              "      <td>161.6</td>\n",
              "      <td>125.8</td>\n",
              "      <td>171.6</td>\n",
              "      <td>10.4</td>\n",
              "      <td>922.6</td>\n",
              "      <td>764.4</td>\n",
              "      <td>28</td>\n",
              "      <td>29.07</td>\n",
              "    </tr>\n",
              "    <tr>\n",
              "      <th>918</th>\n",
              "      <td>145.0</td>\n",
              "      <td>0.0</td>\n",
              "      <td>179.0</td>\n",
              "      <td>202.0</td>\n",
              "      <td>8.0</td>\n",
              "      <td>824.0</td>\n",
              "      <td>869.0</td>\n",
              "      <td>28</td>\n",
              "      <td>10.54</td>\n",
              "    </tr>\n",
              "    <tr>\n",
              "      <th>423</th>\n",
              "      <td>172.4</td>\n",
              "      <td>13.6</td>\n",
              "      <td>172.4</td>\n",
              "      <td>156.8</td>\n",
              "      <td>4.1</td>\n",
              "      <td>1006.3</td>\n",
              "      <td>856.4</td>\n",
              "      <td>14</td>\n",
              "      <td>29.75</td>\n",
              "    </tr>\n",
              "  </tbody>\n",
              "</table>\n",
              "<p>721 rows × 9 columns</p>\n",
              "</div>"
            ],
            "text/plain": [
              "     Cement (component 1)(kg in a m^3 mixture)  ...  Concrete compressive strength(MPa, megapascals) \n",
              "134                                      362.6  ...                                             71.30\n",
              "13                                       190.0  ...                                             42.33\n",
              "996                                      152.6  ...                                             26.86\n",
              "770                                      349.0  ...                                             14.99\n",
              "937                                      313.3  ...                                             36.80\n",
              "..                                         ...  ...                                               ...\n",
              "931                                      144.0  ...                                             15.34\n",
              "466                                      190.3  ...                                             33.56\n",
              "983                                      136.4  ...                                             29.07\n",
              "918                                      145.0  ...                                             10.54\n",
              "423                                      172.4  ...                                             29.75\n",
              "\n",
              "[721 rows x 9 columns]"
            ]
          },
          "metadata": {
            "tags": []
          },
          "execution_count": 141
        }
      ]
    },
    {
      "cell_type": "code",
      "metadata": {
        "colab": {
          "base_uri": "https://localhost:8080/",
          "height": 470
        },
        "id": "g6oecTwKXx-z",
        "outputId": "491a77d8-b916-48d9-f38d-276fdbc56d12"
      },
      "source": [
        "X_test"
      ],
      "execution_count": 142,
      "outputs": [
        {
          "output_type": "execute_result",
          "data": {
            "text/html": [
              "<div>\n",
              "<style scoped>\n",
              "    .dataframe tbody tr th:only-of-type {\n",
              "        vertical-align: middle;\n",
              "    }\n",
              "\n",
              "    .dataframe tbody tr th {\n",
              "        vertical-align: top;\n",
              "    }\n",
              "\n",
              "    .dataframe thead th {\n",
              "        text-align: right;\n",
              "    }\n",
              "</style>\n",
              "<table border=\"1\" class=\"dataframe\">\n",
              "  <thead>\n",
              "    <tr style=\"text-align: right;\">\n",
              "      <th></th>\n",
              "      <th>Cement (component 1)(kg in a m^3 mixture)</th>\n",
              "      <th>Blast Furnace Slag (component 2)(kg in a m^3 mixture)</th>\n",
              "      <th>Fly Ash (component 3)(kg in a m^3 mixture)</th>\n",
              "      <th>Water  (component 4)(kg in a m^3 mixture)</th>\n",
              "      <th>Superplasticizer (component 5)(kg in a m^3 mixture)</th>\n",
              "      <th>Coarse Aggregate  (component 6)(kg in a m^3 mixture)</th>\n",
              "      <th>Fine Aggregate (component 7)(kg in a m^3 mixture)</th>\n",
              "      <th>Age (day)</th>\n",
              "      <th>Concrete compressive strength(MPa, megapascals)</th>\n",
              "    </tr>\n",
              "  </thead>\n",
              "  <tbody>\n",
              "    <tr>\n",
              "      <th>2</th>\n",
              "      <td>332.5</td>\n",
              "      <td>142.5</td>\n",
              "      <td>0.0</td>\n",
              "      <td>228.0</td>\n",
              "      <td>0.0</td>\n",
              "      <td>932.0</td>\n",
              "      <td>594.0</td>\n",
              "      <td>270</td>\n",
              "      <td>40.27</td>\n",
              "    </tr>\n",
              "    <tr>\n",
              "      <th>3</th>\n",
              "      <td>332.5</td>\n",
              "      <td>142.5</td>\n",
              "      <td>0.0</td>\n",
              "      <td>228.0</td>\n",
              "      <td>0.0</td>\n",
              "      <td>932.0</td>\n",
              "      <td>594.0</td>\n",
              "      <td>365</td>\n",
              "      <td>41.05</td>\n",
              "    </tr>\n",
              "    <tr>\n",
              "      <th>8</th>\n",
              "      <td>266.0</td>\n",
              "      <td>114.0</td>\n",
              "      <td>0.0</td>\n",
              "      <td>228.0</td>\n",
              "      <td>0.0</td>\n",
              "      <td>932.0</td>\n",
              "      <td>670.0</td>\n",
              "      <td>28</td>\n",
              "      <td>45.85</td>\n",
              "    </tr>\n",
              "    <tr>\n",
              "      <th>10</th>\n",
              "      <td>198.6</td>\n",
              "      <td>132.4</td>\n",
              "      <td>0.0</td>\n",
              "      <td>192.0</td>\n",
              "      <td>0.0</td>\n",
              "      <td>978.4</td>\n",
              "      <td>825.5</td>\n",
              "      <td>90</td>\n",
              "      <td>38.07</td>\n",
              "    </tr>\n",
              "    <tr>\n",
              "      <th>14</th>\n",
              "      <td>304.0</td>\n",
              "      <td>76.0</td>\n",
              "      <td>0.0</td>\n",
              "      <td>228.0</td>\n",
              "      <td>0.0</td>\n",
              "      <td>932.0</td>\n",
              "      <td>670.0</td>\n",
              "      <td>28</td>\n",
              "      <td>47.81</td>\n",
              "    </tr>\n",
              "    <tr>\n",
              "      <th>...</th>\n",
              "      <td>...</td>\n",
              "      <td>...</td>\n",
              "      <td>...</td>\n",
              "      <td>...</td>\n",
              "      <td>...</td>\n",
              "      <td>...</td>\n",
              "      <td>...</td>\n",
              "      <td>...</td>\n",
              "      <td>...</td>\n",
              "    </tr>\n",
              "    <tr>\n",
              "      <th>1018</th>\n",
              "      <td>321.4</td>\n",
              "      <td>0.0</td>\n",
              "      <td>127.9</td>\n",
              "      <td>182.5</td>\n",
              "      <td>11.5</td>\n",
              "      <td>870.1</td>\n",
              "      <td>779.7</td>\n",
              "      <td>28</td>\n",
              "      <td>37.27</td>\n",
              "    </tr>\n",
              "    <tr>\n",
              "      <th>1019</th>\n",
              "      <td>139.7</td>\n",
              "      <td>163.9</td>\n",
              "      <td>127.7</td>\n",
              "      <td>236.7</td>\n",
              "      <td>5.8</td>\n",
              "      <td>868.6</td>\n",
              "      <td>655.6</td>\n",
              "      <td>28</td>\n",
              "      <td>35.23</td>\n",
              "    </tr>\n",
              "    <tr>\n",
              "      <th>1023</th>\n",
              "      <td>159.8</td>\n",
              "      <td>250.0</td>\n",
              "      <td>0.0</td>\n",
              "      <td>168.4</td>\n",
              "      <td>12.2</td>\n",
              "      <td>1049.3</td>\n",
              "      <td>688.2</td>\n",
              "      <td>28</td>\n",
              "      <td>39.46</td>\n",
              "    </tr>\n",
              "    <tr>\n",
              "      <th>1024</th>\n",
              "      <td>166.0</td>\n",
              "      <td>259.7</td>\n",
              "      <td>0.0</td>\n",
              "      <td>183.2</td>\n",
              "      <td>12.7</td>\n",
              "      <td>858.8</td>\n",
              "      <td>826.8</td>\n",
              "      <td>28</td>\n",
              "      <td>37.92</td>\n",
              "    </tr>\n",
              "    <tr>\n",
              "      <th>1029</th>\n",
              "      <td>260.9</td>\n",
              "      <td>100.5</td>\n",
              "      <td>78.3</td>\n",
              "      <td>200.6</td>\n",
              "      <td>8.6</td>\n",
              "      <td>864.5</td>\n",
              "      <td>761.5</td>\n",
              "      <td>28</td>\n",
              "      <td>32.40</td>\n",
              "    </tr>\n",
              "  </tbody>\n",
              "</table>\n",
              "<p>309 rows × 9 columns</p>\n",
              "</div>"
            ],
            "text/plain": [
              "      Cement (component 1)(kg in a m^3 mixture)  ...  Concrete compressive strength(MPa, megapascals) \n",
              "2                                         332.5  ...                                             40.27\n",
              "3                                         332.5  ...                                             41.05\n",
              "8                                         266.0  ...                                             45.85\n",
              "10                                        198.6  ...                                             38.07\n",
              "14                                        304.0  ...                                             47.81\n",
              "...                                         ...  ...                                               ...\n",
              "1018                                      321.4  ...                                             37.27\n",
              "1019                                      139.7  ...                                             35.23\n",
              "1023                                      159.8  ...                                             39.46\n",
              "1024                                      166.0  ...                                             37.92\n",
              "1029                                      260.9  ...                                             32.40\n",
              "\n",
              "[309 rows x 9 columns]"
            ]
          },
          "metadata": {
            "tags": []
          },
          "execution_count": 142
        }
      ]
    },
    {
      "cell_type": "code",
      "metadata": {
        "id": "Fjg3a4-7X0Wc"
      },
      "source": [
        "X_train = X_train.iloc[: , 0:-1]\n",
        "Y_train = X_train.iloc[: , -1]\n",
        "X_test = X_test.iloc[: , 0:-1]\n",
        "Y_test = X_test.iloc[: , -1]"
      ],
      "execution_count": 143,
      "outputs": []
    },
    {
      "cell_type": "code",
      "metadata": {
        "id": "K-LFY-maZtMb"
      },
      "source": [
        "X_mean = X_train.mean()\n",
        "X_train -= X_mean\n",
        "X_std = X_train.std()\n",
        "X_train /= X_std\n",
        "X_test -= X_mean\n",
        "X_test /= X_std"
      ],
      "execution_count": 144,
      "outputs": []
    },
    {
      "cell_type": "code",
      "metadata": {
        "id": "Kx8edE_9abLY"
      },
      "source": [
        "Y_mean = Y_train.mean()\n",
        "Y_train -= Y_mean\n",
        "Y_std = Y_train.std()\n",
        "Y_train /= Y_std\n",
        "Y_test -= Y_mean\n",
        "Y_test /= Y_std"
      ],
      "execution_count": 145,
      "outputs": []
    },
    {
      "cell_type": "code",
      "metadata": {
        "colab": {
          "base_uri": "https://localhost:8080/",
          "height": 470
        },
        "id": "FIotOpysdGyw",
        "outputId": "eb453754-e9fc-463f-a27a-8e79086a8090"
      },
      "source": [
        "X_train"
      ],
      "execution_count": 146,
      "outputs": [
        {
          "output_type": "execute_result",
          "data": {
            "text/html": [
              "<div>\n",
              "<style scoped>\n",
              "    .dataframe tbody tr th:only-of-type {\n",
              "        vertical-align: middle;\n",
              "    }\n",
              "\n",
              "    .dataframe tbody tr th {\n",
              "        vertical-align: top;\n",
              "    }\n",
              "\n",
              "    .dataframe thead th {\n",
              "        text-align: right;\n",
              "    }\n",
              "</style>\n",
              "<table border=\"1\" class=\"dataframe\">\n",
              "  <thead>\n",
              "    <tr style=\"text-align: right;\">\n",
              "      <th></th>\n",
              "      <th>Cement (component 1)(kg in a m^3 mixture)</th>\n",
              "      <th>Blast Furnace Slag (component 2)(kg in a m^3 mixture)</th>\n",
              "      <th>Fly Ash (component 3)(kg in a m^3 mixture)</th>\n",
              "      <th>Water  (component 4)(kg in a m^3 mixture)</th>\n",
              "      <th>Superplasticizer (component 5)(kg in a m^3 mixture)</th>\n",
              "      <th>Coarse Aggregate  (component 6)(kg in a m^3 mixture)</th>\n",
              "      <th>Fine Aggregate (component 7)(kg in a m^3 mixture)</th>\n",
              "      <th>Age (day)</th>\n",
              "    </tr>\n",
              "  </thead>\n",
              "  <tbody>\n",
              "    <tr>\n",
              "      <th>134</th>\n",
              "      <td>0.805454</td>\n",
              "      <td>1.303810</td>\n",
              "      <td>-0.828060</td>\n",
              "      <td>-0.788615</td>\n",
              "      <td>0.922719</td>\n",
              "      <td>-0.348682</td>\n",
              "      <td>-0.241282</td>\n",
              "      <td>-0.282950</td>\n",
              "    </tr>\n",
              "    <tr>\n",
              "      <th>13</th>\n",
              "      <td>-0.859113</td>\n",
              "      <td>1.315264</td>\n",
              "      <td>-0.828060</td>\n",
              "      <td>2.191863</td>\n",
              "      <td>-1.034088</td>\n",
              "      <td>-0.513035</td>\n",
              "      <td>-1.299946</td>\n",
              "      <td>0.700674</td>\n",
              "    </tr>\n",
              "    <tr>\n",
              "      <th>996</th>\n",
              "      <td>-1.219802</td>\n",
              "      <td>1.873117</td>\n",
              "      <td>-0.828060</td>\n",
              "      <td>0.869306</td>\n",
              "      <td>0.028661</td>\n",
              "      <td>0.390257</td>\n",
              "      <td>-1.128438</td>\n",
              "      <td>-0.282950</td>\n",
              "    </tr>\n",
              "    <tr>\n",
              "      <th>770</th>\n",
              "      <td>0.674295</td>\n",
              "      <td>-0.861162</td>\n",
              "      <td>-0.828060</td>\n",
              "      <td>0.491432</td>\n",
              "      <td>-1.034088</td>\n",
              "      <td>0.975198</td>\n",
              "      <td>0.378124</td>\n",
              "      <td>-0.679572</td>\n",
              "    </tr>\n",
              "    <tr>\n",
              "      <th>937</th>\n",
              "      <td>0.330001</td>\n",
              "      <td>-0.861162</td>\n",
              "      <td>0.916440</td>\n",
              "      <td>-0.146229</td>\n",
              "      <td>0.315434</td>\n",
              "      <td>0.391552</td>\n",
              "      <td>-1.069212</td>\n",
              "      <td>-0.282950</td>\n",
              "    </tr>\n",
              "    <tr>\n",
              "      <th>...</th>\n",
              "      <td>...</td>\n",
              "      <td>...</td>\n",
              "      <td>...</td>\n",
              "      <td>...</td>\n",
              "      <td>...</td>\n",
              "      <td>...</td>\n",
              "      <td>...</td>\n",
              "      <td>...</td>\n",
              "    </tr>\n",
              "    <tr>\n",
              "      <th>931</th>\n",
              "      <td>-1.302741</td>\n",
              "      <td>-0.689339</td>\n",
              "      <td>2.182360</td>\n",
              "      <td>-0.264315</td>\n",
              "      <td>-0.021946</td>\n",
              "      <td>0.638728</td>\n",
              "      <td>-0.818735</td>\n",
              "      <td>-0.282950</td>\n",
              "    </tr>\n",
              "    <tr>\n",
              "      <th>466</th>\n",
              "      <td>-0.856220</td>\n",
              "      <td>-0.861162</td>\n",
              "      <td>1.104784</td>\n",
              "      <td>-0.708316</td>\n",
              "      <td>0.635946</td>\n",
              "      <td>1.389314</td>\n",
              "      <td>0.290519</td>\n",
              "      <td>0.859323</td>\n",
              "    </tr>\n",
              "    <tr>\n",
              "      <th>983</th>\n",
              "      <td>-1.376036</td>\n",
              "      <td>0.989946</td>\n",
              "      <td>1.114047</td>\n",
              "      <td>-0.472145</td>\n",
              "      <td>0.720291</td>\n",
              "      <td>-0.634682</td>\n",
              "      <td>-0.135168</td>\n",
              "      <td>-0.282950</td>\n",
              "    </tr>\n",
              "    <tr>\n",
              "      <th>918</th>\n",
              "      <td>-1.293097</td>\n",
              "      <td>-0.861162</td>\n",
              "      <td>1.935351</td>\n",
              "      <td>0.963774</td>\n",
              "      <td>0.315434</td>\n",
              "      <td>-1.910680</td>\n",
              "      <td>1.155465</td>\n",
              "      <td>-0.282950</td>\n",
              "    </tr>\n",
              "    <tr>\n",
              "      <th>423</th>\n",
              "      <td>-1.028849</td>\n",
              "      <td>-0.705376</td>\n",
              "      <td>1.833460</td>\n",
              "      <td>-1.171212</td>\n",
              "      <td>-0.342458</td>\n",
              "      <td>0.448493</td>\n",
              "      <td>0.999997</td>\n",
              "      <td>-0.505058</td>\n",
              "    </tr>\n",
              "  </tbody>\n",
              "</table>\n",
              "<p>721 rows × 8 columns</p>\n",
              "</div>"
            ],
            "text/plain": [
              "     Cement (component 1)(kg in a m^3 mixture)  ...  Age (day)\n",
              "134                                   0.805454  ...  -0.282950\n",
              "13                                   -0.859113  ...   0.700674\n",
              "996                                  -1.219802  ...  -0.282950\n",
              "770                                   0.674295  ...  -0.679572\n",
              "937                                   0.330001  ...  -0.282950\n",
              "..                                         ...  ...        ...\n",
              "931                                  -1.302741  ...  -0.282950\n",
              "466                                  -0.856220  ...   0.859323\n",
              "983                                  -1.376036  ...  -0.282950\n",
              "918                                  -1.293097  ...  -0.282950\n",
              "423                                  -1.028849  ...  -0.505058\n",
              "\n",
              "[721 rows x 8 columns]"
            ]
          },
          "metadata": {
            "tags": []
          },
          "execution_count": 146
        }
      ]
    },
    {
      "cell_type": "code",
      "metadata": {
        "colab": {
          "base_uri": "https://localhost:8080/"
        },
        "id": "E_ysOkzsb9Hd",
        "outputId": "43fa6dca-3968-4549-f2d6-861bdcf56ca9"
      },
      "source": [
        "X_train.dtypes"
      ],
      "execution_count": 147,
      "outputs": [
        {
          "output_type": "execute_result",
          "data": {
            "text/plain": [
              "Cement (component 1)(kg in a m^3 mixture)                float64\n",
              "Blast Furnace Slag (component 2)(kg in a m^3 mixture)    float64\n",
              "Fly Ash (component 3)(kg in a m^3 mixture)               float64\n",
              "Water  (component 4)(kg in a m^3 mixture)                float64\n",
              "Superplasticizer (component 5)(kg in a m^3 mixture)      float64\n",
              "Coarse Aggregate  (component 6)(kg in a m^3 mixture)     float64\n",
              "Fine Aggregate (component 7)(kg in a m^3 mixture)        float64\n",
              "Age (day)                                                float64\n",
              "dtype: object"
            ]
          },
          "metadata": {
            "tags": []
          },
          "execution_count": 147
        }
      ]
    },
    {
      "cell_type": "code",
      "metadata": {
        "id": "qqQX7SXdbVa6"
      },
      "source": [
        "X_train = X_train.to_numpy()\n",
        "Y_train = Y_train.to_numpy()\n",
        "X_test = X_test.to_numpy()\n",
        "Y_test = Y_test.to_numpy()\n"
      ],
      "execution_count": 148,
      "outputs": []
    },
    {
      "cell_type": "code",
      "metadata": {
        "colab": {
          "base_uri": "https://localhost:8080/"
        },
        "id": "WAjNW70VdKvE",
        "outputId": "825b4782-4939-4f4d-b7b1-0e500382b782"
      },
      "source": [
        "X_train"
      ],
      "execution_count": 149,
      "outputs": [
        {
          "output_type": "execute_result",
          "data": {
            "text/plain": [
              "array([[ 0.80545429,  1.30380957, -0.82805958, ..., -0.34868242,\n",
              "        -0.24128161, -0.28294978],\n",
              "       [-0.85911335,  1.31526445, -0.82805958, ..., -0.51303507,\n",
              "        -1.2999464 ,  0.70067422],\n",
              "       [-1.21980182,  1.87311692, -0.82805958, ...,  0.39025745,\n",
              "        -1.12843776, -0.28294978],\n",
              "       ...,\n",
              "       [-1.37603586,  0.98994597,  1.11404672, ..., -0.63468191,\n",
              "        -0.13516836, -0.28294978],\n",
              "       [-1.2930968 , -0.86116202,  1.93535081, ..., -1.91067965,\n",
              "         1.15546493, -0.28294978],\n",
              "       [-1.0288491 , -0.7053757 ,  1.8334597 , ...,  0.44849264,\n",
              "         0.99999668, -0.50505842]])"
            ]
          },
          "metadata": {
            "tags": []
          },
          "execution_count": 149
        }
      ]
    },
    {
      "cell_type": "code",
      "metadata": {
        "colab": {
          "base_uri": "https://localhost:8080/"
        },
        "id": "ffIvMUgEbvhe",
        "outputId": "c322723d-cfb7-496f-bbef-62e46d358e3e"
      },
      "source": [
        "X_train.dtype"
      ],
      "execution_count": 150,
      "outputs": [
        {
          "output_type": "execute_result",
          "data": {
            "text/plain": [
              "dtype('float64')"
            ]
          },
          "metadata": {
            "tags": []
          },
          "execution_count": 150
        }
      ]
    },
    {
      "cell_type": "code",
      "metadata": {
        "id": "7yPY0GoubxUD"
      },
      "source": [
        "from keras import layers\n",
        "from keras import models"
      ],
      "execution_count": 151,
      "outputs": []
    },
    {
      "cell_type": "code",
      "metadata": {
        "id": "mnQvQCnTddt_"
      },
      "source": [
        "network = models.Sequential()\n",
        "network.add(layers.Dense(128,activation=\"relu\",input_shape=(X_train.shape[1],)))\n",
        "network.add(layers.Dense(64,activation=\"relu\"))\n",
        "network.add(layers.Dense(32,activation=\"relu\"))\n",
        "network.add(layers.Dense(1))\n",
        "network.compile(optimizer=\"rmsprop\",loss=[\"mse\"],metrics=[\"mae\"])"
      ],
      "execution_count": 152,
      "outputs": []
    },
    {
      "cell_type": "code",
      "metadata": {
        "colab": {
          "base_uri": "https://localhost:8080/"
        },
        "id": "Fxeua2C1BXeM",
        "outputId": "3966cbe9-15ea-4fe9-c81d-f56e8a744689"
      },
      "source": [
        "history = network.fit(X_train,Y_train,epochs=200,validation_split=0.3, batch_size = 16)"
      ],
      "execution_count": 153,
      "outputs": [
        {
          "output_type": "stream",
          "text": [
            "Epoch 1/200\n",
            "32/32 [==============================] - 1s 7ms/step - loss: 0.6407 - mae: 0.4897 - val_loss: 0.0245 - val_mae: 0.1173\n",
            "Epoch 2/200\n",
            "32/32 [==============================] - 0s 3ms/step - loss: 0.0197 - mae: 0.1023 - val_loss: 0.0099 - val_mae: 0.0778\n",
            "Epoch 3/200\n",
            "32/32 [==============================] - 0s 3ms/step - loss: 0.0126 - mae: 0.0847 - val_loss: 0.0231 - val_mae: 0.1220\n",
            "Epoch 4/200\n",
            "32/32 [==============================] - 0s 3ms/step - loss: 0.0135 - mae: 0.0857 - val_loss: 0.0048 - val_mae: 0.0520\n",
            "Epoch 5/200\n",
            "32/32 [==============================] - 0s 3ms/step - loss: 0.0063 - mae: 0.0606 - val_loss: 0.0118 - val_mae: 0.0890\n",
            "Epoch 6/200\n",
            "32/32 [==============================] - 0s 3ms/step - loss: 0.0073 - mae: 0.0642 - val_loss: 0.0102 - val_mae: 0.0793\n",
            "Epoch 7/200\n",
            "32/32 [==============================] - 0s 3ms/step - loss: 0.0067 - mae: 0.0580 - val_loss: 0.0102 - val_mae: 0.0661\n",
            "Epoch 8/200\n",
            "32/32 [==============================] - 0s 3ms/step - loss: 0.0064 - mae: 0.0551 - val_loss: 0.0047 - val_mae: 0.0489\n",
            "Epoch 9/200\n",
            "32/32 [==============================] - 0s 4ms/step - loss: 0.0064 - mae: 0.0577 - val_loss: 0.0026 - val_mae: 0.0391\n",
            "Epoch 10/200\n",
            "32/32 [==============================] - 0s 3ms/step - loss: 0.0049 - mae: 0.0480 - val_loss: 0.0054 - val_mae: 0.0573\n",
            "Epoch 11/200\n",
            "32/32 [==============================] - 0s 3ms/step - loss: 0.0073 - mae: 0.0639 - val_loss: 0.0038 - val_mae: 0.0468\n",
            "Epoch 12/200\n",
            "32/32 [==============================] - 0s 3ms/step - loss: 0.0034 - mae: 0.0432 - val_loss: 0.0028 - val_mae: 0.0389\n",
            "Epoch 13/200\n",
            "32/32 [==============================] - 0s 3ms/step - loss: 0.0032 - mae: 0.0408 - val_loss: 0.0041 - val_mae: 0.0424\n",
            "Epoch 14/200\n",
            "32/32 [==============================] - 0s 3ms/step - loss: 0.0032 - mae: 0.0419 - val_loss: 0.0051 - val_mae: 0.0589\n",
            "Epoch 15/200\n",
            "32/32 [==============================] - 0s 4ms/step - loss: 0.0039 - mae: 0.0441 - val_loss: 0.0081 - val_mae: 0.0682\n",
            "Epoch 16/200\n",
            "32/32 [==============================] - 0s 3ms/step - loss: 0.0032 - mae: 0.0425 - val_loss: 0.0036 - val_mae: 0.0444\n",
            "Epoch 17/200\n",
            "32/32 [==============================] - 0s 3ms/step - loss: 0.0044 - mae: 0.0466 - val_loss: 0.0036 - val_mae: 0.0486\n",
            "Epoch 18/200\n",
            "32/32 [==============================] - 0s 3ms/step - loss: 0.0057 - mae: 0.0498 - val_loss: 0.0092 - val_mae: 0.0732\n",
            "Epoch 19/200\n",
            "32/32 [==============================] - 0s 3ms/step - loss: 0.0040 - mae: 0.0464 - val_loss: 0.0024 - val_mae: 0.0362\n",
            "Epoch 20/200\n",
            "32/32 [==============================] - 0s 3ms/step - loss: 0.0031 - mae: 0.0413 - val_loss: 0.0055 - val_mae: 0.0498\n",
            "Epoch 21/200\n",
            "32/32 [==============================] - 0s 3ms/step - loss: 0.0024 - mae: 0.0333 - val_loss: 0.0019 - val_mae: 0.0311\n",
            "Epoch 22/200\n",
            "32/32 [==============================] - 0s 3ms/step - loss: 0.0043 - mae: 0.0412 - val_loss: 0.0066 - val_mae: 0.0663\n",
            "Epoch 23/200\n",
            "32/32 [==============================] - 0s 3ms/step - loss: 0.0044 - mae: 0.0458 - val_loss: 0.0136 - val_mae: 0.0728\n",
            "Epoch 24/200\n",
            "32/32 [==============================] - 0s 3ms/step - loss: 0.0041 - mae: 0.0393 - val_loss: 0.0110 - val_mae: 0.0784\n",
            "Epoch 25/200\n",
            "32/32 [==============================] - 0s 3ms/step - loss: 0.0048 - mae: 0.0509 - val_loss: 0.0067 - val_mae: 0.0613\n",
            "Epoch 26/200\n",
            "32/32 [==============================] - 0s 3ms/step - loss: 0.0023 - mae: 0.0327 - val_loss: 0.0022 - val_mae: 0.0335\n",
            "Epoch 27/200\n",
            "32/32 [==============================] - 0s 3ms/step - loss: 0.0015 - mae: 0.0304 - val_loss: 0.0057 - val_mae: 0.0646\n",
            "Epoch 28/200\n",
            "32/32 [==============================] - 0s 3ms/step - loss: 0.0056 - mae: 0.0482 - val_loss: 0.0040 - val_mae: 0.0418\n",
            "Epoch 29/200\n",
            "32/32 [==============================] - 0s 3ms/step - loss: 0.0038 - mae: 0.0392 - val_loss: 0.0016 - val_mae: 0.0303\n",
            "Epoch 30/200\n",
            "32/32 [==============================] - 0s 3ms/step - loss: 0.0049 - mae: 0.0453 - val_loss: 0.0016 - val_mae: 0.0266\n",
            "Epoch 31/200\n",
            "32/32 [==============================] - 0s 3ms/step - loss: 0.0026 - mae: 0.0332 - val_loss: 0.0035 - val_mae: 0.0463\n",
            "Epoch 32/200\n",
            "32/32 [==============================] - 0s 3ms/step - loss: 0.0024 - mae: 0.0327 - val_loss: 0.0018 - val_mae: 0.0308\n",
            "Epoch 33/200\n",
            "32/32 [==============================] - 0s 3ms/step - loss: 0.0033 - mae: 0.0392 - val_loss: 0.0029 - val_mae: 0.0361\n",
            "Epoch 34/200\n",
            "32/32 [==============================] - 0s 3ms/step - loss: 0.0029 - mae: 0.0345 - val_loss: 0.0024 - val_mae: 0.0366\n",
            "Epoch 35/200\n",
            "32/32 [==============================] - 0s 3ms/step - loss: 0.0028 - mae: 0.0346 - val_loss: 0.0018 - val_mae: 0.0326\n",
            "Epoch 36/200\n",
            "32/32 [==============================] - 0s 3ms/step - loss: 0.0016 - mae: 0.0289 - val_loss: 0.0028 - val_mae: 0.0349\n",
            "Epoch 37/200\n",
            "32/32 [==============================] - 0s 3ms/step - loss: 0.0022 - mae: 0.0334 - val_loss: 0.0034 - val_mae: 0.0459\n",
            "Epoch 38/200\n",
            "32/32 [==============================] - 0s 3ms/step - loss: 0.0016 - mae: 0.0283 - val_loss: 0.0057 - val_mae: 0.0509\n",
            "Epoch 39/200\n",
            "32/32 [==============================] - 0s 3ms/step - loss: 0.0015 - mae: 0.0265 - val_loss: 0.0037 - val_mae: 0.0447\n",
            "Epoch 40/200\n",
            "32/32 [==============================] - 0s 3ms/step - loss: 0.0024 - mae: 0.0365 - val_loss: 0.0048 - val_mae: 0.0430\n",
            "Epoch 41/200\n",
            "32/32 [==============================] - 0s 3ms/step - loss: 0.0016 - mae: 0.0271 - val_loss: 0.0019 - val_mae: 0.0332\n",
            "Epoch 42/200\n",
            "32/32 [==============================] - 0s 3ms/step - loss: 0.0011 - mae: 0.0235 - val_loss: 0.0068 - val_mae: 0.0511\n",
            "Epoch 43/200\n",
            "32/32 [==============================] - 0s 3ms/step - loss: 0.0027 - mae: 0.0367 - val_loss: 0.0105 - val_mae: 0.0679\n",
            "Epoch 44/200\n",
            "32/32 [==============================] - 0s 3ms/step - loss: 0.0027 - mae: 0.0326 - val_loss: 0.0014 - val_mae: 0.0277\n",
            "Epoch 45/200\n",
            "32/32 [==============================] - 0s 3ms/step - loss: 0.0018 - mae: 0.0263 - val_loss: 0.0036 - val_mae: 0.0467\n",
            "Epoch 46/200\n",
            "32/32 [==============================] - 0s 3ms/step - loss: 0.0017 - mae: 0.0286 - val_loss: 0.0016 - val_mae: 0.0306\n",
            "Epoch 47/200\n",
            "32/32 [==============================] - 0s 3ms/step - loss: 0.0016 - mae: 0.0304 - val_loss: 0.0052 - val_mae: 0.0520\n",
            "Epoch 48/200\n",
            "32/32 [==============================] - 0s 3ms/step - loss: 0.0031 - mae: 0.0340 - val_loss: 0.0029 - val_mae: 0.0436\n",
            "Epoch 49/200\n",
            "32/32 [==============================] - 0s 3ms/step - loss: 0.0033 - mae: 0.0312 - val_loss: 0.0039 - val_mae: 0.0362\n",
            "Epoch 50/200\n",
            "32/32 [==============================] - 0s 3ms/step - loss: 0.0031 - mae: 0.0381 - val_loss: 0.0092 - val_mae: 0.0471\n",
            "Epoch 51/200\n",
            "32/32 [==============================] - 0s 3ms/step - loss: 0.0024 - mae: 0.0311 - val_loss: 0.0118 - val_mae: 0.0607\n",
            "Epoch 52/200\n",
            "32/32 [==============================] - 0s 3ms/step - loss: 0.0030 - mae: 0.0340 - val_loss: 0.0015 - val_mae: 0.0304\n",
            "Epoch 53/200\n",
            "32/32 [==============================] - 0s 3ms/step - loss: 0.0017 - mae: 0.0262 - val_loss: 0.0013 - val_mae: 0.0284\n",
            "Epoch 54/200\n",
            "32/32 [==============================] - 0s 3ms/step - loss: 0.0013 - mae: 0.0253 - val_loss: 0.0014 - val_mae: 0.0317\n",
            "Epoch 55/200\n",
            "32/32 [==============================] - 0s 3ms/step - loss: 0.0014 - mae: 0.0263 - val_loss: 0.0015 - val_mae: 0.0250\n",
            "Epoch 56/200\n",
            "32/32 [==============================] - 0s 3ms/step - loss: 0.0020 - mae: 0.0276 - val_loss: 0.0028 - val_mae: 0.0446\n",
            "Epoch 57/200\n",
            "32/32 [==============================] - 0s 3ms/step - loss: 0.0019 - mae: 0.0316 - val_loss: 0.0022 - val_mae: 0.0378\n",
            "Epoch 58/200\n",
            "32/32 [==============================] - 0s 4ms/step - loss: 0.0021 - mae: 0.0279 - val_loss: 0.0012 - val_mae: 0.0254\n",
            "Epoch 59/200\n",
            "32/32 [==============================] - 0s 3ms/step - loss: 0.0018 - mae: 0.0296 - val_loss: 0.0016 - val_mae: 0.0300\n",
            "Epoch 60/200\n",
            "32/32 [==============================] - 0s 3ms/step - loss: 8.0376e-04 - mae: 0.0185 - val_loss: 0.0061 - val_mae: 0.0454\n",
            "Epoch 61/200\n",
            "32/32 [==============================] - 0s 3ms/step - loss: 0.0038 - mae: 0.0314 - val_loss: 0.0079 - val_mae: 0.0483\n",
            "Epoch 62/200\n",
            "32/32 [==============================] - 0s 3ms/step - loss: 0.0020 - mae: 0.0283 - val_loss: 0.0014 - val_mae: 0.0284\n",
            "Epoch 63/200\n",
            "32/32 [==============================] - 0s 3ms/step - loss: 0.0015 - mae: 0.0265 - val_loss: 0.0015 - val_mae: 0.0269\n",
            "Epoch 64/200\n",
            "32/32 [==============================] - 0s 3ms/step - loss: 0.0013 - mae: 0.0247 - val_loss: 0.0011 - val_mae: 0.0256\n",
            "Epoch 65/200\n",
            "32/32 [==============================] - 0s 4ms/step - loss: 8.1493e-04 - mae: 0.0205 - val_loss: 0.0046 - val_mae: 0.0409\n",
            "Epoch 66/200\n",
            "32/32 [==============================] - 0s 3ms/step - loss: 0.0020 - mae: 0.0279 - val_loss: 0.0024 - val_mae: 0.0408\n",
            "Epoch 67/200\n",
            "32/32 [==============================] - 0s 3ms/step - loss: 0.0024 - mae: 0.0307 - val_loss: 0.0015 - val_mae: 0.0311\n",
            "Epoch 68/200\n",
            "32/32 [==============================] - 0s 3ms/step - loss: 0.0015 - mae: 0.0269 - val_loss: 6.7404e-04 - val_mae: 0.0187\n",
            "Epoch 69/200\n",
            "32/32 [==============================] - 0s 3ms/step - loss: 0.0013 - mae: 0.0258 - val_loss: 0.0108 - val_mae: 0.0515\n",
            "Epoch 70/200\n",
            "32/32 [==============================] - 0s 3ms/step - loss: 0.0028 - mae: 0.0268 - val_loss: 9.7231e-04 - val_mae: 0.0236\n",
            "Epoch 71/200\n",
            "32/32 [==============================] - 0s 3ms/step - loss: 0.0016 - mae: 0.0262 - val_loss: 0.0033 - val_mae: 0.0341\n",
            "Epoch 72/200\n",
            "32/32 [==============================] - 0s 3ms/step - loss: 0.0024 - mae: 0.0272 - val_loss: 9.6054e-04 - val_mae: 0.0243\n",
            "Epoch 73/200\n",
            "32/32 [==============================] - 0s 3ms/step - loss: 9.0841e-04 - mae: 0.0205 - val_loss: 0.0078 - val_mae: 0.0470\n",
            "Epoch 74/200\n",
            "32/32 [==============================] - 0s 3ms/step - loss: 0.0026 - mae: 0.0261 - val_loss: 0.0030 - val_mae: 0.0331\n",
            "Epoch 75/200\n",
            "32/32 [==============================] - 0s 3ms/step - loss: 0.0020 - mae: 0.0238 - val_loss: 0.0070 - val_mae: 0.0565\n",
            "Epoch 76/200\n",
            "32/32 [==============================] - 0s 3ms/step - loss: 0.0013 - mae: 0.0246 - val_loss: 0.0055 - val_mae: 0.0609\n",
            "Epoch 77/200\n",
            "32/32 [==============================] - 0s 4ms/step - loss: 0.0012 - mae: 0.0247 - val_loss: 0.0035 - val_mae: 0.0360\n",
            "Epoch 78/200\n",
            "32/32 [==============================] - 0s 3ms/step - loss: 0.0011 - mae: 0.0204 - val_loss: 0.0156 - val_mae: 0.0590\n",
            "Epoch 79/200\n",
            "32/32 [==============================] - 0s 3ms/step - loss: 0.0018 - mae: 0.0260 - val_loss: 8.5235e-04 - val_mae: 0.0242\n",
            "Epoch 80/200\n",
            "32/32 [==============================] - 0s 3ms/step - loss: 0.0020 - mae: 0.0254 - val_loss: 0.0022 - val_mae: 0.0273\n",
            "Epoch 81/200\n",
            "32/32 [==============================] - 0s 3ms/step - loss: 0.0026 - mae: 0.0288 - val_loss: 9.8388e-04 - val_mae: 0.0234\n",
            "Epoch 82/200\n",
            "32/32 [==============================] - 0s 3ms/step - loss: 0.0016 - mae: 0.0222 - val_loss: 5.0704e-04 - val_mae: 0.0170\n",
            "Epoch 83/200\n",
            "32/32 [==============================] - 0s 3ms/step - loss: 0.0012 - mae: 0.0218 - val_loss: 0.0010 - val_mae: 0.0229\n",
            "Epoch 84/200\n",
            "32/32 [==============================] - 0s 3ms/step - loss: 0.0011 - mae: 0.0204 - val_loss: 8.8988e-04 - val_mae: 0.0238\n",
            "Epoch 85/200\n",
            "32/32 [==============================] - 0s 3ms/step - loss: 0.0012 - mae: 0.0207 - val_loss: 0.0084 - val_mae: 0.0615\n",
            "Epoch 86/200\n",
            "32/32 [==============================] - 0s 3ms/step - loss: 0.0017 - mae: 0.0257 - val_loss: 0.0042 - val_mae: 0.0351\n",
            "Epoch 87/200\n",
            "32/32 [==============================] - 0s 3ms/step - loss: 0.0020 - mae: 0.0247 - val_loss: 0.0016 - val_mae: 0.0294\n",
            "Epoch 88/200\n",
            "32/32 [==============================] - 0s 3ms/step - loss: 0.0030 - mae: 0.0296 - val_loss: 0.0018 - val_mae: 0.0271\n",
            "Epoch 89/200\n",
            "32/32 [==============================] - 0s 3ms/step - loss: 5.2673e-04 - mae: 0.0158 - val_loss: 0.0264 - val_mae: 0.0763\n",
            "Epoch 90/200\n",
            "32/32 [==============================] - 0s 3ms/step - loss: 0.0025 - mae: 0.0275 - val_loss: 0.0017 - val_mae: 0.0235\n",
            "Epoch 91/200\n",
            "32/32 [==============================] - 0s 3ms/step - loss: 0.0018 - mae: 0.0252 - val_loss: 0.0011 - val_mae: 0.0266\n",
            "Epoch 92/200\n",
            "32/32 [==============================] - 0s 3ms/step - loss: 0.0012 - mae: 0.0240 - val_loss: 0.0012 - val_mae: 0.0271\n",
            "Epoch 93/200\n",
            "32/32 [==============================] - 0s 3ms/step - loss: 9.3669e-04 - mae: 0.0202 - val_loss: 6.2127e-04 - val_mae: 0.0186\n",
            "Epoch 94/200\n",
            "32/32 [==============================] - 0s 3ms/step - loss: 0.0012 - mae: 0.0209 - val_loss: 0.0021 - val_mae: 0.0327\n",
            "Epoch 95/200\n",
            "32/32 [==============================] - 0s 3ms/step - loss: 0.0024 - mae: 0.0268 - val_loss: 8.0571e-04 - val_mae: 0.0233\n",
            "Epoch 96/200\n",
            "32/32 [==============================] - 0s 3ms/step - loss: 8.0410e-04 - mae: 0.0193 - val_loss: 0.0015 - val_mae: 0.0244\n",
            "Epoch 97/200\n",
            "32/32 [==============================] - 0s 3ms/step - loss: 0.0016 - mae: 0.0238 - val_loss: 7.9194e-04 - val_mae: 0.0219\n",
            "Epoch 98/200\n",
            "32/32 [==============================] - 0s 3ms/step - loss: 9.8208e-04 - mae: 0.0166 - val_loss: 8.0178e-04 - val_mae: 0.0193\n",
            "Epoch 99/200\n",
            "32/32 [==============================] - 0s 3ms/step - loss: 7.7719e-04 - mae: 0.0180 - val_loss: 0.0025 - val_mae: 0.0252\n",
            "Epoch 100/200\n",
            "32/32 [==============================] - 0s 3ms/step - loss: 0.0013 - mae: 0.0214 - val_loss: 9.4520e-04 - val_mae: 0.0238\n",
            "Epoch 101/200\n",
            "32/32 [==============================] - 0s 3ms/step - loss: 0.0016 - mae: 0.0266 - val_loss: 0.0036 - val_mae: 0.0395\n",
            "Epoch 102/200\n",
            "32/32 [==============================] - 0s 3ms/step - loss: 0.0011 - mae: 0.0217 - val_loss: 0.0018 - val_mae: 0.0314\n",
            "Epoch 103/200\n",
            "32/32 [==============================] - 0s 3ms/step - loss: 9.4085e-04 - mae: 0.0183 - val_loss: 0.0014 - val_mae: 0.0243\n",
            "Epoch 104/200\n",
            "32/32 [==============================] - 0s 3ms/step - loss: 0.0014 - mae: 0.0259 - val_loss: 7.8563e-04 - val_mae: 0.0217\n",
            "Epoch 105/200\n",
            "32/32 [==============================] - 0s 3ms/step - loss: 0.0012 - mae: 0.0207 - val_loss: 5.5352e-04 - val_mae: 0.0183\n",
            "Epoch 106/200\n",
            "32/32 [==============================] - 0s 3ms/step - loss: 0.0011 - mae: 0.0172 - val_loss: 5.5689e-04 - val_mae: 0.0169\n",
            "Epoch 107/200\n",
            "32/32 [==============================] - 0s 3ms/step - loss: 0.0019 - mae: 0.0245 - val_loss: 8.7139e-04 - val_mae: 0.0230\n",
            "Epoch 108/200\n",
            "32/32 [==============================] - 0s 3ms/step - loss: 0.0015 - mae: 0.0230 - val_loss: 6.8591e-04 - val_mae: 0.0196\n",
            "Epoch 109/200\n",
            "32/32 [==============================] - 0s 3ms/step - loss: 7.3895e-04 - mae: 0.0173 - val_loss: 0.0085 - val_mae: 0.0463\n",
            "Epoch 110/200\n",
            "32/32 [==============================] - 0s 3ms/step - loss: 0.0041 - mae: 0.0262 - val_loss: 0.0033 - val_mae: 0.0306\n",
            "Epoch 111/200\n",
            "32/32 [==============================] - 0s 3ms/step - loss: 0.0027 - mae: 0.0253 - val_loss: 8.5969e-04 - val_mae: 0.0210\n",
            "Epoch 112/200\n",
            "32/32 [==============================] - 0s 3ms/step - loss: 7.7002e-04 - mae: 0.0184 - val_loss: 0.0015 - val_mae: 0.0308\n",
            "Epoch 113/200\n",
            "32/32 [==============================] - 0s 3ms/step - loss: 9.7966e-04 - mae: 0.0220 - val_loss: 0.0020 - val_mae: 0.0262\n",
            "Epoch 114/200\n",
            "32/32 [==============================] - 0s 3ms/step - loss: 7.9406e-04 - mae: 0.0163 - val_loss: 6.3425e-04 - val_mae: 0.0197\n",
            "Epoch 115/200\n",
            "32/32 [==============================] - 0s 3ms/step - loss: 9.5272e-04 - mae: 0.0189 - val_loss: 0.0011 - val_mae: 0.0272\n",
            "Epoch 116/200\n",
            "32/32 [==============================] - 0s 3ms/step - loss: 9.2400e-04 - mae: 0.0192 - val_loss: 7.1534e-04 - val_mae: 0.0200\n",
            "Epoch 117/200\n",
            "32/32 [==============================] - 0s 3ms/step - loss: 0.0026 - mae: 0.0247 - val_loss: 5.9224e-04 - val_mae: 0.0187\n",
            "Epoch 118/200\n",
            "32/32 [==============================] - 0s 3ms/step - loss: 0.0014 - mae: 0.0196 - val_loss: 0.0070 - val_mae: 0.0438\n",
            "Epoch 119/200\n",
            "32/32 [==============================] - 0s 3ms/step - loss: 0.0017 - mae: 0.0213 - val_loss: 0.0025 - val_mae: 0.0292\n",
            "Epoch 120/200\n",
            "32/32 [==============================] - 0s 3ms/step - loss: 0.0011 - mae: 0.0186 - val_loss: 0.0019 - val_mae: 0.0364\n",
            "Epoch 121/200\n",
            "32/32 [==============================] - 0s 3ms/step - loss: 0.0013 - mae: 0.0219 - val_loss: 7.1101e-04 - val_mae: 0.0203\n",
            "Epoch 122/200\n",
            "32/32 [==============================] - 0s 3ms/step - loss: 0.0019 - mae: 0.0213 - val_loss: 0.0014 - val_mae: 0.0325\n",
            "Epoch 123/200\n",
            "32/32 [==============================] - 0s 3ms/step - loss: 0.0010 - mae: 0.0201 - val_loss: 0.0052 - val_mae: 0.0343\n",
            "Epoch 124/200\n",
            "32/32 [==============================] - 0s 3ms/step - loss: 0.0014 - mae: 0.0237 - val_loss: 0.0051 - val_mae: 0.0412\n",
            "Epoch 125/200\n",
            "32/32 [==============================] - 0s 3ms/step - loss: 0.0011 - mae: 0.0205 - val_loss: 0.0039 - val_mae: 0.0340\n",
            "Epoch 126/200\n",
            "32/32 [==============================] - 0s 3ms/step - loss: 0.0024 - mae: 0.0249 - val_loss: 0.0041 - val_mae: 0.0353\n",
            "Epoch 127/200\n",
            "32/32 [==============================] - 0s 3ms/step - loss: 0.0016 - mae: 0.0201 - val_loss: 5.2879e-04 - val_mae: 0.0180\n",
            "Epoch 128/200\n",
            "32/32 [==============================] - 0s 3ms/step - loss: 3.9283e-04 - mae: 0.0149 - val_loss: 0.0057 - val_mae: 0.0361\n",
            "Epoch 129/200\n",
            "32/32 [==============================] - 0s 3ms/step - loss: 0.0014 - mae: 0.0201 - val_loss: 0.0014 - val_mae: 0.0292\n",
            "Epoch 130/200\n",
            "32/32 [==============================] - 0s 3ms/step - loss: 0.0027 - mae: 0.0264 - val_loss: 0.0010 - val_mae: 0.0244\n",
            "Epoch 131/200\n",
            "32/32 [==============================] - 0s 3ms/step - loss: 8.9430e-04 - mae: 0.0182 - val_loss: 5.7864e-04 - val_mae: 0.0172\n",
            "Epoch 132/200\n",
            "32/32 [==============================] - 0s 3ms/step - loss: 6.6803e-04 - mae: 0.0164 - val_loss: 0.0015 - val_mae: 0.0223\n",
            "Epoch 133/200\n",
            "32/32 [==============================] - 0s 3ms/step - loss: 0.0010 - mae: 0.0178 - val_loss: 0.0024 - val_mae: 0.0290\n",
            "Epoch 134/200\n",
            "32/32 [==============================] - 0s 3ms/step - loss: 0.0015 - mae: 0.0178 - val_loss: 0.0013 - val_mae: 0.0283\n",
            "Epoch 135/200\n",
            "32/32 [==============================] - 0s 3ms/step - loss: 8.1217e-04 - mae: 0.0164 - val_loss: 4.8257e-04 - val_mae: 0.0165\n",
            "Epoch 136/200\n",
            "32/32 [==============================] - 0s 3ms/step - loss: 7.1260e-04 - mae: 0.0147 - val_loss: 5.4830e-04 - val_mae: 0.0168\n",
            "Epoch 137/200\n",
            "32/32 [==============================] - 0s 3ms/step - loss: 8.3523e-04 - mae: 0.0162 - val_loss: 0.0011 - val_mae: 0.0286\n",
            "Epoch 138/200\n",
            "32/32 [==============================] - 0s 3ms/step - loss: 0.0012 - mae: 0.0216 - val_loss: 4.9578e-04 - val_mae: 0.0162\n",
            "Epoch 139/200\n",
            "32/32 [==============================] - 0s 3ms/step - loss: 0.0012 - mae: 0.0174 - val_loss: 5.1700e-04 - val_mae: 0.0179\n",
            "Epoch 140/200\n",
            "32/32 [==============================] - 0s 3ms/step - loss: 6.2502e-04 - mae: 0.0178 - val_loss: 6.4589e-04 - val_mae: 0.0169\n",
            "Epoch 141/200\n",
            "32/32 [==============================] - 0s 3ms/step - loss: 6.3786e-04 - mae: 0.0152 - val_loss: 9.1761e-04 - val_mae: 0.0185\n",
            "Epoch 142/200\n",
            "32/32 [==============================] - 0s 3ms/step - loss: 7.8234e-04 - mae: 0.0150 - val_loss: 0.0027 - val_mae: 0.0367\n",
            "Epoch 143/200\n",
            "32/32 [==============================] - 0s 3ms/step - loss: 0.0018 - mae: 0.0232 - val_loss: 3.7532e-04 - val_mae: 0.0152\n",
            "Epoch 144/200\n",
            "32/32 [==============================] - 0s 3ms/step - loss: 0.0013 - mae: 0.0191 - val_loss: 7.7273e-04 - val_mae: 0.0213\n",
            "Epoch 145/200\n",
            "32/32 [==============================] - 0s 3ms/step - loss: 0.0010 - mae: 0.0191 - val_loss: 6.8752e-04 - val_mae: 0.0181\n",
            "Epoch 146/200\n",
            "32/32 [==============================] - 0s 3ms/step - loss: 6.9049e-04 - mae: 0.0180 - val_loss: 0.0012 - val_mae: 0.0278\n",
            "Epoch 147/200\n",
            "32/32 [==============================] - 0s 3ms/step - loss: 9.4167e-04 - mae: 0.0203 - val_loss: 0.0050 - val_mae: 0.0345\n",
            "Epoch 148/200\n",
            "32/32 [==============================] - 0s 3ms/step - loss: 0.0012 - mae: 0.0194 - val_loss: 4.0255e-04 - val_mae: 0.0142\n",
            "Epoch 149/200\n",
            "32/32 [==============================] - 0s 3ms/step - loss: 8.2610e-04 - mae: 0.0165 - val_loss: 7.2862e-04 - val_mae: 0.0222\n",
            "Epoch 150/200\n",
            "32/32 [==============================] - 0s 3ms/step - loss: 5.7499e-04 - mae: 0.0168 - val_loss: 0.0016 - val_mae: 0.0231\n",
            "Epoch 151/200\n",
            "32/32 [==============================] - 0s 3ms/step - loss: 9.3012e-04 - mae: 0.0167 - val_loss: 5.5051e-04 - val_mae: 0.0172\n",
            "Epoch 152/200\n",
            "32/32 [==============================] - 0s 3ms/step - loss: 4.5542e-04 - mae: 0.0149 - val_loss: 0.0016 - val_mae: 0.0271\n",
            "Epoch 153/200\n",
            "32/32 [==============================] - 0s 3ms/step - loss: 0.0018 - mae: 0.0207 - val_loss: 0.0026 - val_mae: 0.0259\n",
            "Epoch 154/200\n",
            "32/32 [==============================] - 0s 3ms/step - loss: 0.0012 - mae: 0.0173 - val_loss: 0.0013 - val_mae: 0.0319\n",
            "Epoch 155/200\n",
            "32/32 [==============================] - 0s 3ms/step - loss: 7.4849e-04 - mae: 0.0174 - val_loss: 5.3648e-04 - val_mae: 0.0155\n",
            "Epoch 156/200\n",
            "32/32 [==============================] - 0s 3ms/step - loss: 7.6808e-04 - mae: 0.0159 - val_loss: 9.1315e-04 - val_mae: 0.0243\n",
            "Epoch 157/200\n",
            "32/32 [==============================] - 0s 3ms/step - loss: 0.0021 - mae: 0.0223 - val_loss: 7.7277e-04 - val_mae: 0.0172\n",
            "Epoch 158/200\n",
            "32/32 [==============================] - 0s 3ms/step - loss: 0.0011 - mae: 0.0192 - val_loss: 5.9696e-04 - val_mae: 0.0165\n",
            "Epoch 159/200\n",
            "32/32 [==============================] - 0s 4ms/step - loss: 9.0168e-04 - mae: 0.0181 - val_loss: 0.0012 - val_mae: 0.0225\n",
            "Epoch 160/200\n",
            "32/32 [==============================] - 0s 3ms/step - loss: 7.3619e-04 - mae: 0.0172 - val_loss: 5.5652e-04 - val_mae: 0.0169\n",
            "Epoch 161/200\n",
            "32/32 [==============================] - 0s 3ms/step - loss: 8.0072e-04 - mae: 0.0181 - val_loss: 7.1383e-04 - val_mae: 0.0201\n",
            "Epoch 162/200\n",
            "32/32 [==============================] - 0s 3ms/step - loss: 8.9876e-04 - mae: 0.0159 - val_loss: 0.0016 - val_mae: 0.0336\n",
            "Epoch 163/200\n",
            "32/32 [==============================] - 0s 3ms/step - loss: 6.1671e-04 - mae: 0.0166 - val_loss: 0.0010 - val_mae: 0.0191\n",
            "Epoch 164/200\n",
            "32/32 [==============================] - 0s 3ms/step - loss: 5.4538e-04 - mae: 0.0145 - val_loss: 0.0025 - val_mae: 0.0256\n",
            "Epoch 165/200\n",
            "32/32 [==============================] - 0s 3ms/step - loss: 0.0014 - mae: 0.0191 - val_loss: 4.2144e-04 - val_mae: 0.0150\n",
            "Epoch 166/200\n",
            "32/32 [==============================] - 0s 3ms/step - loss: 0.0012 - mae: 0.0192 - val_loss: 0.0019 - val_mae: 0.0339\n",
            "Epoch 167/200\n",
            "32/32 [==============================] - 0s 3ms/step - loss: 9.5582e-04 - mae: 0.0197 - val_loss: 3.9002e-04 - val_mae: 0.0141\n",
            "Epoch 168/200\n",
            "32/32 [==============================] - 0s 3ms/step - loss: 0.0011 - mae: 0.0167 - val_loss: 4.3103e-04 - val_mae: 0.0153\n",
            "Epoch 169/200\n",
            "32/32 [==============================] - 0s 3ms/step - loss: 8.3205e-04 - mae: 0.0171 - val_loss: 0.0021 - val_mae: 0.0226\n",
            "Epoch 170/200\n",
            "32/32 [==============================] - 0s 3ms/step - loss: 8.8448e-04 - mae: 0.0177 - val_loss: 4.0385e-04 - val_mae: 0.0155\n",
            "Epoch 171/200\n",
            "32/32 [==============================] - 0s 3ms/step - loss: 7.4135e-04 - mae: 0.0160 - val_loss: 7.9767e-04 - val_mae: 0.0202\n",
            "Epoch 172/200\n",
            "32/32 [==============================] - 0s 3ms/step - loss: 5.8654e-04 - mae: 0.0153 - val_loss: 4.0738e-04 - val_mae: 0.0148\n",
            "Epoch 173/200\n",
            "32/32 [==============================] - 0s 3ms/step - loss: 5.4031e-04 - mae: 0.0135 - val_loss: 0.0022 - val_mae: 0.0278\n",
            "Epoch 174/200\n",
            "32/32 [==============================] - 0s 3ms/step - loss: 7.8791e-04 - mae: 0.0172 - val_loss: 5.1993e-04 - val_mae: 0.0163\n",
            "Epoch 175/200\n",
            "32/32 [==============================] - 0s 3ms/step - loss: 5.5403e-04 - mae: 0.0146 - val_loss: 0.0068 - val_mae: 0.0431\n",
            "Epoch 176/200\n",
            "32/32 [==============================] - 0s 3ms/step - loss: 0.0012 - mae: 0.0196 - val_loss: 0.0016 - val_mae: 0.0229\n",
            "Epoch 177/200\n",
            "32/32 [==============================] - 0s 3ms/step - loss: 0.0011 - mae: 0.0199 - val_loss: 4.3616e-04 - val_mae: 0.0152\n",
            "Epoch 178/200\n",
            "32/32 [==============================] - 0s 3ms/step - loss: 7.9189e-04 - mae: 0.0168 - val_loss: 0.0011 - val_mae: 0.0247\n",
            "Epoch 179/200\n",
            "32/32 [==============================] - 0s 3ms/step - loss: 8.4914e-04 - mae: 0.0184 - val_loss: 0.0011 - val_mae: 0.0215\n",
            "Epoch 180/200\n",
            "32/32 [==============================] - 0s 3ms/step - loss: 8.1568e-04 - mae: 0.0170 - val_loss: 8.8619e-04 - val_mae: 0.0203\n",
            "Epoch 181/200\n",
            "32/32 [==============================] - 0s 3ms/step - loss: 0.0014 - mae: 0.0208 - val_loss: 4.8094e-04 - val_mae: 0.0154\n",
            "Epoch 182/200\n",
            "32/32 [==============================] - 0s 3ms/step - loss: 0.0013 - mae: 0.0205 - val_loss: 0.0098 - val_mae: 0.0469\n",
            "Epoch 183/200\n",
            "32/32 [==============================] - 0s 3ms/step - loss: 0.0014 - mae: 0.0189 - val_loss: 0.0067 - val_mae: 0.0371\n",
            "Epoch 184/200\n",
            "32/32 [==============================] - 0s 3ms/step - loss: 0.0013 - mae: 0.0159 - val_loss: 7.5342e-04 - val_mae: 0.0196\n",
            "Epoch 185/200\n",
            "32/32 [==============================] - 0s 3ms/step - loss: 7.7844e-04 - mae: 0.0163 - val_loss: 0.0032 - val_mae: 0.0323\n",
            "Epoch 186/200\n",
            "32/32 [==============================] - 0s 3ms/step - loss: 0.0012 - mae: 0.0192 - val_loss: 7.8875e-04 - val_mae: 0.0207\n",
            "Epoch 187/200\n",
            "32/32 [==============================] - 0s 3ms/step - loss: 6.4513e-04 - mae: 0.0151 - val_loss: 8.9588e-04 - val_mae: 0.0228\n",
            "Epoch 188/200\n",
            "32/32 [==============================] - 0s 3ms/step - loss: 5.8406e-04 - mae: 0.0160 - val_loss: 0.0012 - val_mae: 0.0220\n",
            "Epoch 189/200\n",
            "32/32 [==============================] - 0s 3ms/step - loss: 7.3492e-04 - mae: 0.0169 - val_loss: 0.0023 - val_mae: 0.0259\n",
            "Epoch 190/200\n",
            "32/32 [==============================] - 0s 3ms/step - loss: 0.0014 - mae: 0.0188 - val_loss: 0.0025 - val_mae: 0.0292\n",
            "Epoch 191/200\n",
            "32/32 [==============================] - 0s 3ms/step - loss: 5.9981e-04 - mae: 0.0146 - val_loss: 8.1045e-04 - val_mae: 0.0205\n",
            "Epoch 192/200\n",
            "32/32 [==============================] - 0s 3ms/step - loss: 2.9697e-04 - mae: 0.0118 - val_loss: 0.0012 - val_mae: 0.0268\n",
            "Epoch 193/200\n",
            "32/32 [==============================] - 0s 3ms/step - loss: 6.5655e-04 - mae: 0.0161 - val_loss: 0.0041 - val_mae: 0.0295\n",
            "Epoch 194/200\n",
            "32/32 [==============================] - 0s 4ms/step - loss: 7.9969e-04 - mae: 0.0178 - val_loss: 8.1677e-04 - val_mae: 0.0196\n",
            "Epoch 195/200\n",
            "32/32 [==============================] - 0s 3ms/step - loss: 0.0014 - mae: 0.0191 - val_loss: 0.0011 - val_mae: 0.0272\n",
            "Epoch 196/200\n",
            "32/32 [==============================] - 0s 3ms/step - loss: 7.3691e-04 - mae: 0.0179 - val_loss: 0.0013 - val_mae: 0.0243\n",
            "Epoch 197/200\n",
            "32/32 [==============================] - 0s 4ms/step - loss: 6.9044e-04 - mae: 0.0151 - val_loss: 0.0028 - val_mae: 0.0300\n",
            "Epoch 198/200\n",
            "32/32 [==============================] - 0s 3ms/step - loss: 4.3842e-04 - mae: 0.0130 - val_loss: 8.0189e-04 - val_mae: 0.0196\n",
            "Epoch 199/200\n",
            "32/32 [==============================] - 0s 3ms/step - loss: 9.8918e-04 - mae: 0.0180 - val_loss: 4.4022e-04 - val_mae: 0.0148\n",
            "Epoch 200/200\n",
            "32/32 [==============================] - 0s 3ms/step - loss: 2.8200e-04 - mae: 0.0126 - val_loss: 0.0118 - val_mae: 0.0570\n"
          ],
          "name": "stdout"
        }
      ]
    },
    {
      "cell_type": "code",
      "metadata": {
        "colab": {
          "base_uri": "https://localhost:8080/"
        },
        "id": "ZR65JrH0CxsW",
        "outputId": "aae76363-899b-413e-8a67-5073e0815b96"
      },
      "source": [
        "loss,mae=network.evaluate(X_test,Y_test)"
      ],
      "execution_count": 154,
      "outputs": [
        {
          "output_type": "stream",
          "text": [
            "10/10 [==============================] - 0s 2ms/step - loss: 0.0112 - mae: 0.0558\n"
          ],
          "name": "stdout"
        }
      ]
    },
    {
      "cell_type": "code",
      "metadata": {
        "colab": {
          "base_uri": "https://localhost:8080/"
        },
        "id": "-NNn8wBmFlVw",
        "outputId": "814103f7-f314-4e6f-c736-fb6eb0fa2409"
      },
      "source": [
        "history.history.keys()"
      ],
      "execution_count": 155,
      "outputs": [
        {
          "output_type": "execute_result",
          "data": {
            "text/plain": [
              "dict_keys(['loss', 'mae', 'val_loss', 'val_mae'])"
            ]
          },
          "metadata": {
            "tags": []
          },
          "execution_count": 155
        }
      ]
    },
    {
      "cell_type": "code",
      "metadata": {
        "id": "M-qkMPnlFm8F"
      },
      "source": [
        "val_mae = history.history['val_mae']\n",
        "val_loss = history.history['val_loss']"
      ],
      "execution_count": 156,
      "outputs": []
    },
    {
      "cell_type": "code",
      "metadata": {
        "colab": {
          "base_uri": "https://localhost:8080/"
        },
        "id": "m2mOOqSGH_N_",
        "outputId": "d41c0c0a-2476-4b47-a220-f9b89660c66f"
      },
      "source": [
        "len(history.history['val_loss'])"
      ],
      "execution_count": 157,
      "outputs": [
        {
          "output_type": "execute_result",
          "data": {
            "text/plain": [
              "200"
            ]
          },
          "metadata": {
            "tags": []
          },
          "execution_count": 157
        }
      ]
    },
    {
      "cell_type": "code",
      "metadata": {
        "colab": {
          "base_uri": "https://localhost:8080/"
        },
        "id": "t99tnSWbIl5s",
        "outputId": "7a06a8bb-bc16-4ca4-db5c-c14cf4feedc2"
      },
      "source": [
        "len(history.history['loss'])"
      ],
      "execution_count": 158,
      "outputs": [
        {
          "output_type": "execute_result",
          "data": {
            "text/plain": [
              "200"
            ]
          },
          "metadata": {
            "tags": []
          },
          "execution_count": 158
        }
      ]
    },
    {
      "cell_type": "code",
      "metadata": {
        "colab": {
          "base_uri": "https://localhost:8080/",
          "height": 295
        },
        "id": "wP9GtpcnF3MJ",
        "outputId": "83e21680-09db-4790-a5e4-ca244e28ef26"
      },
      "source": [
        "import matplotlib.pyplot as plt \n",
        "history_dict = history.history\n",
        "loss_values = history_dict['loss']\n",
        "val_loss_values = history_dict['val_loss']\n",
        "epochs = range(200)\n",
        "plt.plot(epochs, loss_values, 'bo', label='Training loss')\n",
        "plt.plot(epochs, val_loss_values, 'b', label='Validation loss')\n",
        "plt.title('Training and validation loss')\n",
        "plt.xlabel('Epochs')\n",
        "plt.ylabel('Loss')\n",
        "plt.legend()\n",
        "plt.show()"
      ],
      "execution_count": 159,
      "outputs": [
        {
          "output_type": "display_data",
          "data": {
            "image/png": "[encoded data removed]",
            "text/plain": [
              "<Figure size 432x288 with 1 Axes>"
            ]
          },
          "metadata": {
            "tags": [],
            "needs_background": "light"
          }
        }
      ]
    },
    {
      "cell_type": "code",
      "metadata": {
        "colab": {
          "base_uri": "https://localhost:8080/",
          "height": 295
        },
        "id": "CxcTRcQNG8s4",
        "outputId": "ddfbcc1b-1aa9-4460-b9cd-880ee5f748d0"
      },
      "source": [
        "acc_values = history_dict['mae']\n",
        "val_acc_values = history_dict['val_mae']\n",
        "plt.plot(epochs, acc_values, 'bo', label='Training mae')\n",
        "plt.plot(epochs, val_acc_values, 'b', label='Validation mae')\n",
        "plt.title('Training and validation accuracy')\n",
        "plt.xlabel('Epochs')\n",
        "plt.ylabel('mae')\n",
        "plt.legend()\n",
        "plt.show()"
      ],
      "execution_count": 160,
      "outputs": [
        {
          "output_type": "display_data",
          "data": {
            "image/png": "[encoded data removed]",
            "text/plain": [
              "<Figure size 432x288 with 1 Axes>"
            ]
          },
          "metadata": {
            "tags": [],
            "needs_background": "light"
          }
        }
      ]
    },
    {
      "cell_type": "code",
      "metadata": {
        "id": "qCw9g1RUJyDb"
      },
      "source": [
        "y_pred = network.predict(X_test)"
      ],
      "execution_count": 161,
      "outputs": []
    },
    {
      "cell_type": "code",
      "metadata": {
        "id": "U9NHeaFOKCx4"
      },
      "source": [
        "def denorm(x):\n",
        "    return (x * Y_std) + Y_mean\n",
        "    "
      ],
      "execution_count": 162,
      "outputs": []
    },
    {
      "cell_type": "code",
      "metadata": {
        "id": "7A2rPAVDKHEh"
      },
      "source": [
        "y_pred = denorm(y_pred)\n",
        "y_true = denorm(Y_test)\n",
        "y_pred = y_pred.flatten()"
      ],
      "execution_count": 163,
      "outputs": []
    },
    {
      "cell_type": "code",
      "metadata": {
        "colab": {
          "base_uri": "https://localhost:8080/",
          "height": 286
        },
        "id": "VEoH1k-zKS48",
        "outputId": "4289bea4-f4c3-4f8c-b1aa-080c7aafd396"
      },
      "source": [
        "import numpy as np\n",
        "import matplotlib.pyplot as plt\n",
        "coef = np.polyfit(y_true,y_pred,1)\n",
        "poly1d_fn = np.poly1d(coef) \n",
        "# poly1d_fn is now a function which takes in x and returns an estimate for y\n",
        "plt.plot(y_true,y_pred, 'yo', y_true, poly1d_fn(y_true), '--k')\n",
        "plt.xlim(0, 100)\n",
        "plt.ylim(0, 100)"
      ],
      "execution_count": 164,
      "outputs": [
        {
          "output_type": "execute_result",
          "data": {
            "text/plain": [
              "(0.0, 100.0)"
            ]
          },
          "metadata": {
            "tags": []
          },
          "execution_count": 164
        },
        {
          "output_type": "display_data",
          "data": {
            "image/png": "[encoded data removed]",
            "text/plain": [
              "<Figure size 432x288 with 1 Axes>"
            ]
          },
          "metadata": {
            "tags": [],
            "needs_background": "light"
          }
        }
      ]
    },
    {
      "cell_type": "code",
      "metadata": {
        "id": "aO1fm4hGKwfE"
      },
      "source": [
        ""
      ],
      "execution_count": 164,
      "outputs": []
    }
  ]
}